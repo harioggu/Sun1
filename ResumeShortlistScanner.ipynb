{
  "nbformat": 4,
  "nbformat_minor": 0,
  "metadata": {
    "colab": {
      "provenance": [],
      "authorship_tag": "ABX9TyPxm+NJA1amYcZnKO84gzez",
      "include_colab_link": true
    },
    "kernelspec": {
      "name": "python3",
      "display_name": "Python 3"
    },
    "language_info": {
      "name": "python"
    }
  },
  "cells": [
    {
      "cell_type": "markdown",
      "metadata": {
        "id": "view-in-github",
        "colab_type": "text"
      },
      "source": [
        "<a href=\"https://colab.research.google.com/github/harioggu/Sun1/blob/main/ResumeShortlistScanner.ipynb\" target=\"_parent\"><img src=\"https://colab.research.google.com/assets/colab-badge.svg\" alt=\"Open In Colab\"/></a>"
      ]
    },
    {
      "cell_type": "code",
      "execution_count": 44,
      "metadata": {
        "colab": {
          "base_uri": "https://localhost:8080/"
        },
        "id": "fCrBWJVhkU4N",
        "outputId": "6c94fa0f-141a-4e45-d3fa-ef70a1a22654"
      },
      "outputs": [
        {
          "output_type": "stream",
          "name": "stdout",
          "text": [
            "Requirement already satisfied: docx2txt in /usr/local/lib/python3.10/dist-packages (0.8)\n"
          ]
        }
      ],
      "source": [
        "!pip install docx2txt\n",
        "import docx2txt"
      ]
    },
    {
      "cell_type": "code",
      "source": [
        "Description_of_job='/content/job dsc sample.docx'\n",
        "Resume='/content/Resumedoc1.docx'\n",
        "Doj=docx2txt.process(Description_of_job)\n",
        "Rsm=docx2txt.process(Resume)\n",
        "print(\"Description of the job is:\\n\"+Doj)\n",
        "print(\"\\nResume:\\n\"+Rsm)"
      ],
      "metadata": {
        "colab": {
          "base_uri": "https://localhost:8080/"
        },
        "id": "dQodsi4klBBP",
        "outputId": "a4c389ea-1114-4788-d017-ccb8ab213295"
      },
      "execution_count": 45,
      "outputs": [
        {
          "output_type": "stream",
          "name": "stdout",
          "text": [
            "Description of the job is:\n",
            "Job brief\n",
            "\n",
            "We are looking for a Computer Scientist to join our team and help our departments automate aspects of their jobs to produce a better product in less time. \n",
            "\n",
            "A Computer Scientist’s responsibilities include experimenting with various solutions based on the needs of our departments and applying artificial intelligence and AI technologies as needed. \n",
            "\n",
            "Ultimately, you will work with various departments in our organization to understand their needs and then find ways to apply computer technologies to make processes more efficient. \n",
            "\n",
            "Responsibilities\n",
            "\n",
            "Studying, experimenting, and investigating technological fields such as artificial intelligence, robotics, and virtual reality\n",
            "\n",
            "Seeking to improve the performance of existing computer systems and software\n",
            "\n",
            "Developing new hardware or computing techniques and materials\n",
            "\n",
            "Thinking about and conceptualizing computational and maths-related problems and challenges\n",
            "\n",
            "Designing and implementing algorithms and data structures to solve complex computational problems\n",
            "\n",
            "Conducting research to advance the field of computer science and contribute to scientific publications\n",
            "\n",
            "Collaborating with multidisciplinary teams to develop innovative solutions that integrate computer science with other domains\n",
            "\n",
            "Analyzing and interpreting data to derive meaningful insights and inform decision-making processes\n",
            "\n",
            "Testing and evaluating computer systems and software to ensure functionality, reliability, and security\n",
            "\n",
            "Keeping up-to-date with the latest advancements in technology and continuously expanding knowledge and skills\n",
            "\n",
            "Mentoring and providing guidance to junior team members or students pursuing studies in computer science\n",
            "\n",
            "Participating in professional conferences, workshops, and seminars to exchange knowledge and network with peers in the field\n",
            "\n",
            "Adhering to ethical standards and maintaining the security and privacy of data and systems.\n",
            "\n",
            "Requirements and skills\n",
            "\n",
            "Proven work experience as a Computer Scientist or similar role\n",
            "\n",
            "The ability to think through problems and find solutions with various computer technologies\n",
            "\n",
            "Experience working with leaders in an organization to identify their needs\n",
            "\n",
            "Strong programming skills in languages such as Python, Java, C++, or others, depending on the specific field of focus\n",
            "\n",
            "Proficiency in data analysis, machine learning, or artificial intelligence techniques and tools\n",
            "\n",
            "Knowledge of software development methodologies and practices, including agile methodologies and version control systems\n",
            "\n",
            "Familiarity with database management systems and SQL for efficient data storage and retrieval\n",
            "\n",
            "Excellent problem-solving and critical-thinking abilities to tackle complex computational and mathematical challenges\n",
            "\n",
            "Strong communication and interpersonal skills to collaborate effectively with team members and stakeholders\n",
            "\n",
            "Ability to adapt to evolving technologies and learn new programming languages and frameworks quickly\n",
            "\n",
            "Understanding of computer architecture and operating systems principles\n",
            "\n",
            "Knowledge of cybersecurity principles and practices to ensure the security of computer systems and data\n",
            "\n",
            "A bachelor’s or master’s degree in computer science or a related field, or equivalent work experience and certifications.\n",
            "\n",
            "Resume:\n",
            "Melissa Macalisdaire\n",
            "\n",
            "Software Engineer\n",
            "\n",
            "Melissa Macalisdaire\n",
            "\n",
            "Software Engineer\n",
            "\n",
            "Pittsburgh, PA 17770\n",
            "\n",
            "Nationality: American\n",
            "\n",
            "DOB: Jun 23 1985\n",
            "\n",
            "\n",
            "\n",
            "T:  987-654-3210\n",
            "\n",
            "M: melissamacalisdairen@email.com\n",
            "\n",
            "L:  linkedin.com/melissamacalisdaire\n",
            "\n",
            "Pittsburgh, PA 17770\n",
            "\n",
            "Nationality: American\n",
            "\n",
            "DOB: Jun 23 1985\n",
            "\n",
            "\n",
            "\n",
            "T:  987-654-3210\n",
            "\n",
            "M: melissamacalisdairen@email.com\n",
            "\n",
            "L:  linkedin.com/melissamacalisdaire\n",
            "\n",
            "Graduated in computer science with 2 past internships in cybersecurity. I am seeking a job position through which I would be able to use my skills by safeguarding Compcybern’s most essential assets.\n",
            "\n",
            "\t\n",
            "\n",
            "\tEducation and Certifications\n",
            "\n",
            "\n",
            "\n",
            "University of Pittsburgh, Pittsburgh PA - Bachelor of Science in Computer Engineering, June 2021, GPA: 3.86 - Cybersecurity Elementary, September 2021\n",
            "\n",
            "Coursework\n",
            "\n",
            "Network Defense, Network Security, Essentials of Networking, Digital Logic, Mobile Security, Linux Operating Systems, Computer Forensics\n",
            "\n",
            "\n",
            "\n",
            "\tExperience\n",
            "\n",
            "\tWebpage Administrative Advisor - March 2021 – present - C.C. Cyberplanocomp, Pittsburgh, Pennsylvania\n",
            "\n",
            "\n",
            "\n",
            "Timely tackling of various security threats \n",
            "\n",
            "Skillfully constructed and implemented several cybersecurity defense plans\n",
            "\n",
            "Administered regular website check-ups with the purpose of malware prevention\n",
            "\n",
            "\n",
            "\n",
            "\n",
            "\n",
            "\tStudent Intern - Summer 2020 - Cybersecurity Internship Program, Secutech Norinternational, Pittsburgh, Pennsylvania \n",
            "\n",
            "\n",
            "\n",
            "Finished assignments concentrated on prevention and detection of intrusions\n",
            "\n",
            "Malware identification and analysis\n",
            "\n",
            "Praxis in forensic analysis\n",
            "\n",
            "\t\n",
            "\n",
            "\tSkills\n",
            "\n",
            "\tProficient in HTML, PHP, Java, and C++ |Good with Python, C, Ruby, and Pearl. |Willingness to expand knowledge|Skillful problem-solving|Optimistic team worker\n",
            "\n",
            "\n",
            "\tVolunteer Activities\n",
            "Microsoft TEALS program, August 2019-present\n",
            "\n",
            "Technical Classroom Advisor\n",
            "\n",
            "Helped educators organize lessons related to programming and coding\n",
            "\n",
            "Work with students\n"
          ]
        }
      ]
    },
    {
      "cell_type": "code",
      "source": [
        "from sklearn.feature_extraction.text import CountVectorizer\n",
        "matrix=CountVectorizer().fit_transform([Doj,Rsm])"
      ],
      "metadata": {
        "id": "6rZQxz4snKmN"
      },
      "execution_count": 46,
      "outputs": []
    },
    {
      "cell_type": "code",
      "source": [
        "from sklearn.metrics.pairwise import cosine_similarity\n",
        "Similarity=cosine_similarity(matrix)\n",
        "result=Similarity[1][0]\n",
        "print(\"Resume shortlisted by the chance of \"+str(round(float(result*100)))+\"%\")"
      ],
      "metadata": {
        "colab": {
          "base_uri": "https://localhost:8080/"
        },
        "id": "5moWlPEfsbI_",
        "outputId": "bca737d8-ab7a-4371-8bba-a9d2fd3750a2"
      },
      "execution_count": 47,
      "outputs": [
        {
          "output_type": "stream",
          "name": "stdout",
          "text": [
            "Resume shortlisted by the chance of 50%\n"
          ]
        }
      ]
    }
  ]
}