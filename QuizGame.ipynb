{
  "nbformat": 4,
  "nbformat_minor": 0,
  "metadata": {
    "colab": {
      "provenance": [],
      "authorship_tag": "ABX9TyMkOtKkfmAEHDueuI//pHaP",
      "include_colab_link": true
    },
    "kernelspec": {
      "name": "python3",
      "display_name": "Python 3"
    },
    "language_info": {
      "name": "python"
    }
  },
  "cells": [
    {
      "cell_type": "markdown",
      "metadata": {
        "id": "view-in-github",
        "colab_type": "text"
      },
      "source": [
        "<a href=\"https://colab.research.google.com/github/harioggu/Sun1/blob/main/QuizGame.ipynb\" target=\"_parent\"><img src=\"https://colab.research.google.com/assets/colab-badge.svg\" alt=\"Open In Colab\"/></a>"
      ]
    },
    {
      "cell_type": "code",
      "execution_count": 22,
      "metadata": {
        "colab": {
          "base_uri": "https://localhost:8080/"
        },
        "id": "hCb2HkkfIA98",
        "outputId": "8ab4902c-dd5f-4214-bb0f-736e79c577c7"
      },
      "outputs": [
        {
          "output_type": "stream",
          "name": "stdout",
          "text": [
            "What is the largest ocean in the world?\n",
            "A.Indian Ocean\n",
            "B.Pacific Ocean\n",
            "C.Arctic Ocean\n",
            "D.Atlantic Ocean\n",
            "Enter your answer(A,B,C,D): B\n",
            "Correct\n",
            "Which planet is known as the Red Planet?\n",
            "A.Venus\n",
            "B.Saturn\n",
            "C.Mars\n",
            "D.Jupiter\n",
            "Enter your answer(A,B,C,D): C\n",
            "Correct\n",
            "What is the currency of Japan?\n",
            "A.Yen\n",
            "B.Euro\n",
            "C.Dollar\n",
            "D.Rupee\n",
            "Enter your answer(A,B,C,D): B\n",
            "Incorrect\n",
            "The correct answer is A \n",
            "What is the tallest mountain in the world?\n",
            "A.Mount Kilimanjaro\n",
            "B.Mount Fuji\n",
            "C.Mount McKinley\n",
            "D.Mount Everest\n",
            "Enter your answer(A,B,C,D): D\n",
            "Correct\n",
            "Who invented the telephone?\n",
            "A.Thomas Edison\n",
            "B.Alexander Graham Bell\n",
            "C.Nikola Tesla\n",
            "D.Isaac Newton\n",
            "Enter your answer(A,B,C,D): B\n",
            "Correct\n",
            "results\n",
            "answers: B C A D B \n",
            "Guess: B C B D B \n",
            "your score is 80.0%\n"
          ]
        }
      ],
      "source": [
        "Questions=(\"What is the largest ocean in the world?\",\n",
        "          \"Which planet is known as the Red Planet?\",\n",
        "          \"What is the currency of Japan?\",\n",
        "          \"What is the tallest mountain in the world?\",\n",
        "          \"Who invented the telephone?\")\n",
        "Options=((\"A.Indian Ocean\",\"B.Pacific Ocean\",\"C.Arctic Ocean\",\"D.Atlantic Ocean\"),(\"A.Venus\",\"B.Saturn\",\"C.Mars\",\"D.Jupiter\"),(\"A.Yen\",\"B.Euro\",\"C.Dollar\",\"D.Rupee\"),(\"A.Mount Kilimanjaro\",\"B.Mount Fuji\",\"C.Mount McKinley\",\"D.Mount Everest\"),(\"A.Thomas Edison\",\"B.Alexander Graham Bell\",\"C.Nikola Tesla\",\"D.Isaac Newton\"))\n",
        "answers=(\"B\",\"C\",\"A\",\"D\",\"B\")\n",
        "guesses=[]\n",
        "score=0\n",
        "qs_no=0\n",
        "for question in Questions:\n",
        "  print(question)\n",
        "  for option in Options[qs_no]:\n",
        "    print(option)\n",
        "  guess=input(\"Enter your answer(A,B,C,D): \").upper()\n",
        "  guesses.append(guess)\n",
        "  if guess==answers[qs_no]:\n",
        "    score+=1\n",
        "    print(\"Correct\")\n",
        "  else:\n",
        "    print(\"Incorrect\")\n",
        "    print(f\"The correct answer is {answers[qs_no]} \")\n",
        "  qs_no+=1\n",
        "print(\"results\")\n",
        "print(\"answers: \",end=\"\")\n",
        "for answer in answers:\n",
        "  print(answer,end=\" \")\n",
        "print()\n",
        "print(\"Guess:\",end=\" \")\n",
        "for guess in guesses:\n",
        "  print(guess,end=\" \")\n",
        "print()\n",
        "score=score/len(Questions)*100\n",
        "print(f\"your score is {score}%\")\n",
        "\n",
        "\n"
      ]
    }
  ]
}